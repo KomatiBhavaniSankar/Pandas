{
 "cells": [
  {
   "cell_type": "code",
   "execution_count": 28,
   "id": "b1eec5eb-c9b6-4e72-b2ed-3e9a58e8f2b9",
   "metadata": {},
   "outputs": [],
   "source": [
    "import pandas as pd"
   ]
  },
  {
   "cell_type": "code",
   "execution_count": 29,
   "id": "2f3525be-ca8c-41e9-b69d-b3e7e4a96950",
   "metadata": {},
   "outputs": [
    {
     "data": {
      "text/html": [
       "<div>\n",
       "<style scoped>\n",
       "    .dataframe tbody tr th:only-of-type {\n",
       "        vertical-align: middle;\n",
       "    }\n",
       "\n",
       "    .dataframe tbody tr th {\n",
       "        vertical-align: top;\n",
       "    }\n",
       "\n",
       "    .dataframe thead th {\n",
       "        text-align: right;\n",
       "    }\n",
       "</style>\n",
       "<table border=\"1\" class=\"dataframe\">\n",
       "  <thead>\n",
       "    <tr style=\"text-align: right;\">\n",
       "      <th></th>\n",
       "      <th>age</th>\n",
       "      <th>branch</th>\n",
       "    </tr>\n",
       "    <tr>\n",
       "      <th>name</th>\n",
       "      <th></th>\n",
       "      <th></th>\n",
       "    </tr>\n",
       "  </thead>\n",
       "  <tbody>\n",
       "    <tr>\n",
       "      <th>mike</th>\n",
       "      <td>19</td>\n",
       "      <td>CSE</td>\n",
       "    </tr>\n",
       "    <tr>\n",
       "      <th>bob</th>\n",
       "      <td>20</td>\n",
       "      <td>IT</td>\n",
       "    </tr>\n",
       "    <tr>\n",
       "      <th>Raj</th>\n",
       "      <td>18</td>\n",
       "      <td>DS</td>\n",
       "    </tr>\n",
       "  </tbody>\n",
       "</table>\n",
       "</div>"
      ],
      "text/plain": [
       "      age branch\n",
       "name            \n",
       "mike   19    CSE\n",
       "bob    20     IT\n",
       "Raj    18     DS"
      ]
     },
     "execution_count": 29,
     "metadata": {},
     "output_type": "execute_result"
    }
   ],
   "source": [
    "#Series\n",
    "values = [10,20,30,40]\n",
    "s = pd.Series(values, index=['a', 'b','c', 'd'])\n",
    "s.loc['a']\n",
    "\n",
    "#Data Frame:\n",
    "df = pd.DataFrame({\n",
    "\n",
    "    'name' : ['mike', 'bob' , 'Raj' ],\n",
    "    'age' : [19, 20,18],\n",
    "    'branch' : ['CSE', 'IT', 'DS']\n",
    "})\n",
    "df = df.set_index('name')\n",
    "df"
   ]
  },
  {
   "cell_type": "code",
   "execution_count": 30,
   "id": "873df472-648e-446f-9083-e5d871e5bc2d",
   "metadata": {},
   "outputs": [
    {
     "data": {
      "text/plain": [
       "age       18\n",
       "branch    DS\n",
       "Name: Raj, dtype: object"
      ]
     },
     "execution_count": 30,
     "metadata": {},
     "output_type": "execute_result"
    }
   ],
   "source": [
    "df.loc['Raj']"
   ]
  },
  {
   "cell_type": "code",
   "execution_count": 31,
   "id": "a730e115-fd96-4414-b927-60cce82f905e",
   "metadata": {},
   "outputs": [],
   "source": [
    "df1 = pd.DataFrame({\n",
    "'a': [1,2,3,4]\n",
    "    \n",
    "} , index=[0,1,2,3])\n",
    "\n",
    "df2 = pd.DataFrame({\n",
    "\n",
    "'a' : [5,6,7,8]\n",
    "    \n",
    "},[3,0,2,1])"
   ]
  },
  {
   "cell_type": "code",
   "execution_count": 32,
   "id": "c4d0b1af-5bab-47bf-a14d-32c777d8535e",
   "metadata": {},
   "outputs": [
    {
     "data": {
      "text/html": [
       "<div>\n",
       "<style scoped>\n",
       "    .dataframe tbody tr th:only-of-type {\n",
       "        vertical-align: middle;\n",
       "    }\n",
       "\n",
       "    .dataframe tbody tr th {\n",
       "        vertical-align: top;\n",
       "    }\n",
       "\n",
       "    .dataframe thead th {\n",
       "        text-align: right;\n",
       "    }\n",
       "</style>\n",
       "<table border=\"1\" class=\"dataframe\">\n",
       "  <thead>\n",
       "    <tr style=\"text-align: right;\">\n",
       "      <th></th>\n",
       "      <th>a</th>\n",
       "    </tr>\n",
       "  </thead>\n",
       "  <tbody>\n",
       "    <tr>\n",
       "      <th>0</th>\n",
       "      <td>7</td>\n",
       "    </tr>\n",
       "    <tr>\n",
       "      <th>1</th>\n",
       "      <td>10</td>\n",
       "    </tr>\n",
       "    <tr>\n",
       "      <th>2</th>\n",
       "      <td>10</td>\n",
       "    </tr>\n",
       "    <tr>\n",
       "      <th>3</th>\n",
       "      <td>9</td>\n",
       "    </tr>\n",
       "  </tbody>\n",
       "</table>\n",
       "</div>"
      ],
      "text/plain": [
       "    a\n",
       "0   7\n",
       "1  10\n",
       "2  10\n",
       "3   9"
      ]
     },
     "execution_count": 32,
     "metadata": {},
     "output_type": "execute_result"
    }
   ],
   "source": [
    "df1 + df2"
   ]
  },
  {
   "cell_type": "code",
   "execution_count": 33,
   "id": "2da0280d-3c85-4d78-b3ef-ee3029728d12",
   "metadata": {},
   "outputs": [],
   "source": [
    "df= df.reset_index()\n"
   ]
  },
  {
   "cell_type": "code",
   "execution_count": 34,
   "id": "4649b0a9-935f-4f24-a133-db79465de974",
   "metadata": {},
   "outputs": [
    {
     "data": {
      "text/html": [
       "<div>\n",
       "<style scoped>\n",
       "    .dataframe tbody tr th:only-of-type {\n",
       "        vertical-align: middle;\n",
       "    }\n",
       "\n",
       "    .dataframe tbody tr th {\n",
       "        vertical-align: top;\n",
       "    }\n",
       "\n",
       "    .dataframe thead th {\n",
       "        text-align: right;\n",
       "    }\n",
       "</style>\n",
       "<table border=\"1\" class=\"dataframe\">\n",
       "  <thead>\n",
       "    <tr style=\"text-align: right;\">\n",
       "      <th></th>\n",
       "      <th>name</th>\n",
       "      <th>age</th>\n",
       "      <th>branch</th>\n",
       "    </tr>\n",
       "  </thead>\n",
       "  <tbody>\n",
       "    <tr>\n",
       "      <th>0</th>\n",
       "      <td>mike</td>\n",
       "      <td>19</td>\n",
       "      <td>CSE</td>\n",
       "    </tr>\n",
       "    <tr>\n",
       "      <th>1</th>\n",
       "      <td>bob</td>\n",
       "      <td>20</td>\n",
       "      <td>IT</td>\n",
       "    </tr>\n",
       "    <tr>\n",
       "      <th>2</th>\n",
       "      <td>Raj</td>\n",
       "      <td>18</td>\n",
       "      <td>DS</td>\n",
       "    </tr>\n",
       "  </tbody>\n",
       "</table>\n",
       "</div>"
      ],
      "text/plain": [
       "   name  age branch\n",
       "0  mike   19    CSE\n",
       "1   bob   20     IT\n",
       "2   Raj   18     DS"
      ]
     },
     "execution_count": 34,
     "metadata": {},
     "output_type": "execute_result"
    }
   ],
   "source": [
    "df"
   ]
  },
  {
   "cell_type": "code",
   "execution_count": 35,
   "id": "6a1c5c08-9ac4-42a8-ab84-4a55c639ace7",
   "metadata": {},
   "outputs": [],
   "source": [
    "df.to_csv('mydata.csv', index=None)"
   ]
  },
  {
   "cell_type": "code",
   "execution_count": 36,
   "id": "756c0d73-aef3-442e-905d-6ec329d5b3b2",
   "metadata": {},
   "outputs": [
    {
     "data": {
      "text/html": [
       "<div>\n",
       "<style scoped>\n",
       "    .dataframe tbody tr th:only-of-type {\n",
       "        vertical-align: middle;\n",
       "    }\n",
       "\n",
       "    .dataframe tbody tr th {\n",
       "        vertical-align: top;\n",
       "    }\n",
       "\n",
       "    .dataframe thead th {\n",
       "        text-align: right;\n",
       "    }\n",
       "</style>\n",
       "<table border=\"1\" class=\"dataframe\">\n",
       "  <thead>\n",
       "    <tr style=\"text-align: right;\">\n",
       "      <th></th>\n",
       "      <th>age</th>\n",
       "      <th>branch</th>\n",
       "    </tr>\n",
       "    <tr>\n",
       "      <th>name</th>\n",
       "      <th></th>\n",
       "      <th></th>\n",
       "    </tr>\n",
       "  </thead>\n",
       "  <tbody>\n",
       "    <tr>\n",
       "      <th>mike</th>\n",
       "      <td>19</td>\n",
       "      <td>CSE</td>\n",
       "    </tr>\n",
       "    <tr>\n",
       "      <th>bob</th>\n",
       "      <td>20</td>\n",
       "      <td>IT</td>\n",
       "    </tr>\n",
       "    <tr>\n",
       "      <th>Raj</th>\n",
       "      <td>18</td>\n",
       "      <td>DS</td>\n",
       "    </tr>\n",
       "  </tbody>\n",
       "</table>\n",
       "</div>"
      ],
      "text/plain": [
       "      age branch\n",
       "name            \n",
       "mike   19    CSE\n",
       "bob    20     IT\n",
       "Raj    18     DS"
      ]
     },
     "execution_count": 36,
     "metadata": {},
     "output_type": "execute_result"
    }
   ],
   "source": [
    "pd.read_csv('mydata.csv', index_col=0)"
   ]
  },
  {
   "cell_type": "code",
   "execution_count": 37,
   "id": "e1354d7d-95f3-4bf1-868c-f0a8d3a4bebf",
   "metadata": {},
   "outputs": [],
   "source": [
    "df.to_json('mydata.json')"
   ]
  },
  {
   "cell_type": "code",
   "execution_count": 38,
   "id": "5ca99968-1d6b-42c5-afd7-963f2f25018c",
   "metadata": {},
   "outputs": [
    {
     "data": {
      "text/plain": [
       "{'name': {0: 'mike', 1: 'bob', 2: 'Raj'},\n",
       " 'age': {0: 19, 1: 20, 2: 18},\n",
       " 'branch': {0: 'CSE', 1: 'IT', 2: 'DS'}}"
      ]
     },
     "execution_count": 38,
     "metadata": {},
     "output_type": "execute_result"
    }
   ],
   "source": [
    "df.to_dict()"
   ]
  },
  {
   "cell_type": "code",
   "execution_count": 39,
   "id": "0ab21ba3-9ab7-4576-857b-fc18ddc04ff7",
   "metadata": {},
   "outputs": [],
   "source": [
    "df = df.set_index('name')"
   ]
  },
  {
   "cell_type": "code",
   "execution_count": 40,
   "id": "b8803c5b-1a60-4247-94ff-729ea50f085c",
   "metadata": {},
   "outputs": [
    {
     "data": {
      "text/plain": [
       "age       20\n",
       "branch    IT\n",
       "Name: bob, dtype: object"
      ]
     },
     "execution_count": 40,
     "metadata": {},
     "output_type": "execute_result"
    }
   ],
   "source": [
    "df.loc['bob']"
   ]
  },
  {
   "cell_type": "code",
   "execution_count": 41,
   "id": "273d0597-6981-41c3-8fa9-bf9d5e3d57c5",
   "metadata": {},
   "outputs": [
    {
     "data": {
      "text/plain": [
       "np.int64(20)"
      ]
     },
     "execution_count": 41,
     "metadata": {},
     "output_type": "execute_result"
    }
   ],
   "source": [
    "df.iloc[1,0]"
   ]
  },
  {
   "cell_type": "code",
   "execution_count": 44,
   "id": "1366a32d-2622-48f2-9831-40ae576b3b72",
   "metadata": {},
   "outputs": [
    {
     "data": {
      "text/plain": [
       "np.int64(20)"
      ]
     },
     "execution_count": 44,
     "metadata": {},
     "output_type": "execute_result"
    }
   ],
   "source": [
    "df.loc['bob','age']"
   ]
  },
  {
   "cell_type": "code",
   "execution_count": 43,
   "id": "3fbd2a3f-c488-456d-a2a1-8bd5ee62e8ab",
   "metadata": {},
   "outputs": [
    {
     "data": {
      "text/plain": [
       "np.int64(20)"
      ]
     },
     "execution_count": 43,
     "metadata": {},
     "output_type": "execute_result"
    }
   ],
   "source": [
    "df.iat[1,0]"
   ]
  },
  {
   "cell_type": "code",
   "execution_count": null,
   "id": "61d34080-34ff-47a3-91ae-b30d415c63da",
   "metadata": {},
   "outputs": [],
   "source": [
    "df.at['Raj' , "
   ]
  },
  {
   "cell_type": "code",
   "execution_count": null,
   "id": "cd297ff1-ce52-4a18-8844-3d5a932bfb8c",
   "metadata": {},
   "outputs": [],
   "source": []
  },
  {
   "cell_type": "code",
   "execution_count": null,
   "id": "7e6a6814-b53c-443d-8526-6cccf5355cc1",
   "metadata": {},
   "outputs": [],
   "source": []
  },
  {
   "cell_type": "code",
   "execution_count": null,
   "id": "c8e5559d-c53c-475b-b2e2-837bf44b8da8",
   "metadata": {},
   "outputs": [],
   "source": []
  },
  {
   "cell_type": "code",
   "execution_count": null,
   "id": "de230ec5-8227-4a6c-9fff-83780763b70e",
   "metadata": {},
   "outputs": [],
   "source": []
  },
  {
   "cell_type": "code",
   "execution_count": null,
   "id": "e3d8a24c-b40e-4068-ae22-c18c9c561071",
   "metadata": {},
   "outputs": [],
   "source": []
  },
  {
   "cell_type": "code",
   "execution_count": null,
   "id": "98b3098d-d04c-413a-b09a-bc1c39ed4453",
   "metadata": {},
   "outputs": [],
   "source": []
  }
 ],
 "metadata": {
  "kernelspec": {
   "display_name": "Python 3 (ipykernel)",
   "language": "python",
   "name": "python3"
  },
  "language_info": {
   "codemirror_mode": {
    "name": "ipython",
    "version": 3
   },
   "file_extension": ".py",
   "mimetype": "text/x-python",
   "name": "python",
   "nbconvert_exporter": "python",
   "pygments_lexer": "ipython3",
   "version": "3.13.5"
  }
 },
 "nbformat": 4,
 "nbformat_minor": 5
}
