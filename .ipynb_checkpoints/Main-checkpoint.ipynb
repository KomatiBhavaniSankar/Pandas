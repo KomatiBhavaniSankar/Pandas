{
 "cells": [
  {
   "cell_type": "code",
   "execution_count": 6,
   "id": "b1eec5eb-c9b6-4e72-b2ed-3e9a58e8f2b9",
   "metadata": {},
   "outputs": [],
   "source": [
    "import pandas as pd"
   ]
  },
  {
   "cell_type": "code",
   "execution_count": 10,
   "id": "2f3525be-ca8c-41e9-b69d-b3e7e4a96950",
   "metadata": {},
   "outputs": [
    {
     "data": {
      "text/plain": [
       "a    10\n",
       "b    20\n",
       "c    30\n",
       "d    40\n",
       "dtype: int64"
      ]
     },
     "execution_count": 10,
     "metadata": {},
     "output_type": "execute_result"
    }
   ],
   "source": [
    "#Series\n",
    "values = [10,20,30,40]\n",
    "s = pd.Series(values, index=['a', 'b','c', 'd'])\n",
    "s."
   ]
  },
  {
   "cell_type": "code",
   "execution_count": null,
   "id": "ad99eed7-bdd3-4e0e-88d6-7e2fafcd21df",
   "metadata": {},
   "outputs": [],
   "source": []
  }
 ],
 "metadata": {
  "kernelspec": {
   "display_name": "Python 3 (ipykernel)",
   "language": "python",
   "name": "python3"
  },
  "language_info": {
   "codemirror_mode": {
    "name": "ipython",
    "version": 3
   },
   "file_extension": ".py",
   "mimetype": "text/x-python",
   "name": "python",
   "nbconvert_exporter": "python",
   "pygments_lexer": "ipython3",
   "version": "3.12.3"
  }
 },
 "nbformat": 4,
 "nbformat_minor": 5
}
